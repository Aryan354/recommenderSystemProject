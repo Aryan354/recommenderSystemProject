{
 "cells": [
  {
   "cell_type": "code",
   "execution_count": 1,
   "id": "8759202a",
   "metadata": {},
   "outputs": [],
   "source": [
    "import pandas as pd\n",
    "import numpy as np\n",
    "import glob\n",
    "from sklearn.impute import SimpleImputer"
   ]
  },
  {
   "cell_type": "code",
   "execution_count": 2,
   "id": "111b05d5",
   "metadata": {},
   "outputs": [],
   "source": [
    "# Combining all data into one single csv file for preprocessing\n",
    "csv_files = glob.glob('*.csv')\n",
    "\n",
    "combined_data = pd.DataFrame()\n",
    "\n",
    "# Iterate through each CSV file and concatenate the data\n",
    "for csv_file in csv_files:\n",
    "    df = pd.read_csv(csv_file)\n",
    "    combined_data = pd.concat([combined_data, df], ignore_index=True)\n",
    "\n",
    "# Calculate the threshold for number of non-missing values\n",
    "threshold = combined_data.shape[1] * 0.1  # 10% of total columns\n",
    "\n",
    "# Remove rows with no data or more than 90% missing data from combined_data\n",
    "combined_data = combined_data.dropna(thresh=threshold)\n",
    "\n",
    "\n",
    "combined_data.to_csv('combined_data.csv', index=False)\n",
    "\n"
   ]
  },
  {
   "cell_type": "code",
   "execution_count": 3,
   "id": "916487e8",
   "metadata": {},
   "outputs": [],
   "source": [
    "combined_data = combined_data.rename(columns={'IETLS reading': 'IELTS reading',\n",
    "                            'IETLS writing': 'IELTS writing',\n",
    "                            'IETLS speaking': 'IELTS speaking',\n",
    "                            'IETLS listening': 'IELTS listening'})\n",
    "combined_data.to_csv('combined_data.csv', index=False)"
   ]
  },
  {
   "cell_type": "code",
   "execution_count": 4,
   "id": "1a30c67a",
   "metadata": {},
   "outputs": [
    {
     "data": {
      "text/plain": [
       "(38, 36)"
      ]
     },
     "execution_count": 4,
     "metadata": {},
     "output_type": "execute_result"
    }
   ],
   "source": [
    "combined_data.shape"
   ]
  },
  {
   "cell_type": "code",
   "execution_count": 5,
   "id": "48993841",
   "metadata": {},
   "outputs": [
    {
     "data": {
      "text/plain": [
       "Uni Name                                                   0\n",
       "Country                                                    0\n",
       "State                                                      0\n",
       "Exact Location                                            11\n",
       "Official website url                                       3\n",
       "Rank in QS Rankings                                       23\n",
       "Average Fee per semester in AUD                           15\n",
       "IELTS overall                                             11\n",
       "IELTS reading                                             23\n",
       "IELTS listening                                           23\n",
       "IELTS writing                                             23\n",
       "IELTS speaking                                            23\n",
       "IELTS valid duration                                      32\n",
       "TOEFL IBT overall                                         22\n",
       "TOEFL IBT listening                                       18\n",
       "TOEFL IBT reading                                         18\n",
       "TOEFL IBT speaking                                        18\n",
       "TOEFL IBT writing                                         15\n",
       "PTE overall                                               22\n",
       "PTE speaking & writing                                    22\n",
       "PTE reading                                               24\n",
       "PTE listening                                             24\n",
       "Minimum GPA required                                      33\n",
       "Aggregate 12 percentage                                   36\n",
       "Application Fee                                           38\n",
       "Scholarship Offered To Internation Students With Links    18\n",
       "Average Fee per year in AUD                               29\n",
       "minimum IELTS overall                                     28\n",
       "minimum TOEFL IBT overall                                 30\n",
       "minimum PTE overall                                       30\n",
       "High School Qualifications Accepted                       37\n",
       "ATAR                                                      37\n",
       "Avg Internation Baccalaureate Diploma (IB) Grade          35\n",
       "UK GCE A Levels                                           36\n",
       "IB Diploma                                                37\n",
       "UK A-levels                                               37\n",
       "dtype: int64"
      ]
     },
     "execution_count": 5,
     "metadata": {},
     "output_type": "execute_result"
    }
   ],
   "source": [
    "combined_data.isna().sum()"
   ]
  },
  {
   "cell_type": "code",
   "execution_count": 6,
   "id": "38e649e4",
   "metadata": {},
   "outputs": [],
   "source": [
    "# List of columns to drop\n",
    "columns_to_drop = ['Country', 'Exact Location', 'Official website url', 'Rank in QS Rankings', 'IELTS valid duration',\n",
    "                   'Minimum GPA required', 'Aggregate 12 percentage', 'Application Fee', 'Average Fee per year in AUD',\n",
    "                   'Scholarship Offered To Internation Students With Links', 'IB Diploma', 'UK A-levels', 'UK GCE A Levels', 'IB Diploma', 'UK A-levels', 'High School Qualifications Accepted', 'ATAR','Avg Internation Baccalaureate Diploma (IB) Grade']\n",
    "\n",
    "# Drop the specified columns from the DataFrame\n",
    "combined_data = combined_data.drop(columns=columns_to_drop)\n",
    "# Save the modified DataFrame to a new CSV file\n",
    "combined_data.to_csv('combined_data_removed.csv', index=False)"
   ]
  },
  {
   "cell_type": "code",
   "execution_count": 7,
   "id": "0af93b51",
   "metadata": {},
   "outputs": [
    {
     "data": {
      "text/plain": [
       "(38, 20)"
      ]
     },
     "execution_count": 7,
     "metadata": {},
     "output_type": "execute_result"
    }
   ],
   "source": [
    "combined_data.shape"
   ]
  },
  {
   "cell_type": "code",
   "execution_count": 8,
   "id": "f676b810",
   "metadata": {},
   "outputs": [
    {
     "data": {
      "text/plain": [
       "Uni Name                            0\n",
       "State                               0\n",
       "Average Fee per semester in AUD    15\n",
       "IELTS overall                      11\n",
       "IELTS reading                      23\n",
       "IELTS listening                    23\n",
       "IELTS writing                      23\n",
       "IELTS speaking                     23\n",
       "TOEFL IBT overall                  22\n",
       "TOEFL IBT listening                18\n",
       "TOEFL IBT reading                  18\n",
       "TOEFL IBT speaking                 18\n",
       "TOEFL IBT writing                  15\n",
       "PTE overall                        22\n",
       "PTE speaking & writing             22\n",
       "PTE reading                        24\n",
       "PTE listening                      24\n",
       "minimum IELTS overall              28\n",
       "minimum TOEFL IBT overall          30\n",
       "minimum PTE overall                30\n",
       "dtype: int64"
      ]
     },
     "execution_count": 8,
     "metadata": {},
     "output_type": "execute_result"
    }
   ],
   "source": [
    "combined_data.isna().sum()"
   ]
  },
  {
   "cell_type": "code",
   "execution_count": 9,
   "id": "a4dde70c",
   "metadata": {},
   "outputs": [
    {
     "name": "stdout",
     "output_type": "stream",
     "text": [
      "Index(['Uni Name', 'State', 'Average Fee per semester in AUD', 'PTE overall',\n",
      "       'PTE speaking & writing'],\n",
      "      dtype='object')\n"
     ]
    }
   ],
   "source": [
    "# check which features have non numeric data in them for furthur pre-processing\n",
    "\n",
    "# Load the dataset\n",
    "combined_data = pd.read_csv('combined_data_removed.csv')\n",
    "\n",
    "# Select columns with non-numeric data\n",
    "non_numeric_columns = combined_data.select_dtypes(exclude=['number']).columns\n",
    "\n",
    "# Print the columns with non-numeric data\n",
    "print(non_numeric_columns)\n"
   ]
  },
  {
   "cell_type": "code",
   "execution_count": 10,
   "id": "7e049f2d",
   "metadata": {},
   "outputs": [
    {
     "name": "stderr",
     "output_type": "stream",
     "text": [
      "C:\\Users\\Asus\\AppData\\Local\\Temp\\ipykernel_15224\\1528617218.py:4: FutureWarning: The default value of regex will change from True to False in a future version. In addition, single character regular expressions will *not* be treated as literal strings when regex=True.\n",
      "  combined_data['Average Fee per semester in AUD'] = pd.to_numeric(combined_data['Average Fee per semester in AUD'].str.replace('$', '').str.replace(',', '').str.replace('AU', ''), errors='coerce')\n"
     ]
    }
   ],
   "source": [
    "# Investigating the 'Average Fee per semester in AUD' reveals '$' is redundant there and can hamper with furthur preprocessing..\n",
    "# Remove '$' sign and convert to numeric\n",
    "# Remove '$' sign, commas, and 'AU' from the values\n",
    "combined_data['Average Fee per semester in AUD'] = pd.to_numeric(combined_data['Average Fee per semester in AUD'].str.replace('$', '').str.replace(',', '').str.replace('AU', ''), errors='coerce')"
   ]
  },
  {
   "cell_type": "code",
   "execution_count": 11,
   "id": "b739ff66",
   "metadata": {},
   "outputs": [],
   "source": [
    "\n",
    "# Since PTE Overall and PTE speaking & writing have some non numeric data in them, \n",
    "# Convert non-numeric values to NaN\n",
    "\n",
    "combined_data['PTE overall'] = pd.to_numeric(combined_data['PTE overall'], errors='coerce')\n",
    "combined_data['PTE speaking & writing'] = pd.to_numeric(combined_data['PTE speaking & writing'], errors='coerce')\n",
    "\n",
    "# Calculate the mean of numeric values in the column\n",
    "\n",
    "mean_value_1 = combined_data['PTE overall'].mean()\n",
    "mean_value_2 = combined_data['PTE speaking & writing'].mean()\n",
    "\n",
    "# Replace NaN values with the calculated mean\n",
    "\n",
    "combined_data['PTE overall'].fillna(mean_value_1, inplace=True)\n",
    "combined_data['PTE speaking & writing'].fillna(mean_value_1, inplace=True)\n",
    "\n",
    "# Write the updated data to a new CSV file\n",
    "\n",
    "combined_data.to_csv('combined_data_removed.csv', index=False)"
   ]
  },
  {
   "cell_type": "code",
   "execution_count": 12,
   "id": "cc36c9ab",
   "metadata": {},
   "outputs": [
    {
     "name": "stderr",
     "output_type": "stream",
     "text": [
      "<frozen importlib._bootstrap>:228: RuntimeWarning: scipy._lib.messagestream.MessageStream size changed, may indicate binary incompatibility. Expected 56 from C header, got 64 from PyObject\n"
     ]
    }
   ],
   "source": [
    "# Load the dataset\n",
    "combined_data = pd.read_csv('combined_data_removed.csv')\n",
    "\n",
    "# List of numeric columns with missing values to fill with mean\n",
    "numeric_columns = ['IELTS overall', 'IELTS reading', 'IELTS listening', 'IELTS writing', 'IELTS speaking',\n",
    "                   'TOEFL IBT overall', 'TOEFL IBT listening', 'TOEFL IBT reading', 'TOEFL IBT speaking',\n",
    "                   'TOEFL IBT writing', 'PTE overall', 'PTE reading', 'PTE listening','Average Fee per semester in AUD']\n",
    "\n",
    "# Fill missing values in numeric columns with mean\n",
    "numeric_imputer = SimpleImputer(strategy='mean')\n",
    "combined_data[numeric_columns] = numeric_imputer.fit_transform(combined_data[numeric_columns])\n",
    "\n",
    "\n",
    "# Filling these columns with most_frequent values as it makes the most sense to me\n",
    "columns_to_impute = ['minimum IELTS overall', 'minimum PTE overall', 'minimum TOEFL IBT overall']\n",
    "\n",
    "# Create an instance of SimpleImputer with the strategy set to 'most_frequent'\n",
    "imputer = SimpleImputer(strategy='most_frequent')\n",
    "\n",
    "# Fit the imputer on the columns with missing values\n",
    "imputer.fit(combined_data[columns_to_impute])\n",
    "\n",
    "# Transform the missing values in the columns\n",
    "combined_data[columns_to_impute] = imputer.transform(combined_data[columns_to_impute])\n",
    "\n",
    "\n",
    "# Save the modified dataset\n",
    "combined_data.to_csv('combined_data_filled.csv', index=False)\n"
   ]
  },
  {
   "cell_type": "code",
   "execution_count": 13,
   "id": "7dc00eb3",
   "metadata": {},
   "outputs": [
    {
     "data": {
      "text/plain": [
       "Uni Name                           0\n",
       "State                              0\n",
       "Average Fee per semester in AUD    0\n",
       "IELTS overall                      0\n",
       "IELTS reading                      0\n",
       "IELTS listening                    0\n",
       "IELTS writing                      0\n",
       "IELTS speaking                     0\n",
       "TOEFL IBT overall                  0\n",
       "TOEFL IBT listening                0\n",
       "TOEFL IBT reading                  0\n",
       "TOEFL IBT speaking                 0\n",
       "TOEFL IBT writing                  0\n",
       "PTE overall                        0\n",
       "PTE speaking & writing             0\n",
       "PTE reading                        0\n",
       "PTE listening                      0\n",
       "minimum IELTS overall              0\n",
       "minimum TOEFL IBT overall          0\n",
       "minimum PTE overall                0\n",
       "dtype: int64"
      ]
     },
     "execution_count": 13,
     "metadata": {},
     "output_type": "execute_result"
    }
   ],
   "source": [
    "combined_data.isna().sum()"
   ]
  },
  {
   "cell_type": "code",
   "execution_count": null,
   "id": "e0a6669c",
   "metadata": {},
   "outputs": [],
   "source": [
    "## ALL MISSING VALUES HAVE BEEN HANDLED"
   ]
  },
  {
   "cell_type": "code",
   "execution_count": null,
   "id": "e4570cb9",
   "metadata": {},
   "outputs": [],
   "source": []
  }
 ],
 "metadata": {
  "kernelspec": {
   "display_name": "Python 3 (ipykernel)",
   "language": "python",
   "name": "python3"
  },
  "language_info": {
   "codemirror_mode": {
    "name": "ipython",
    "version": 3
   },
   "file_extension": ".py",
   "mimetype": "text/x-python",
   "name": "python",
   "nbconvert_exporter": "python",
   "pygments_lexer": "ipython3",
   "version": "3.9.13"
  }
 },
 "nbformat": 4,
 "nbformat_minor": 5
}
